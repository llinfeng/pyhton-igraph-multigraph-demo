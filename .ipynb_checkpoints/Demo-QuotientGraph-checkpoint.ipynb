{
 "cells": [
  {
   "cell_type": "markdown",
   "metadata": {},
   "source": [
    "# Construct the graph"
   ]
  },
  {
   "cell_type": "code",
   "execution_count": 1,
   "metadata": {},
   "outputs": [],
   "source": [
    "import igraph\n",
    "import pandas as pd\n",
    "raw_source = pd.read_csv('deidentified_pub_record.csv')"
   ]
  },
  {
   "cell_type": "code",
   "execution_count": 2,
   "metadata": {},
   "outputs": [
    {
     "name": "stdout",
     "output_type": "stream",
     "text": [
      "0.8.2\n"
     ]
    }
   ],
   "source": [
    "print(igraph.__version__)"
   ]
  },
  {
   "cell_type": "code",
   "execution_count": 3,
   "metadata": {},
   "outputs": [],
   "source": [
    "# Prepare for the node-list\n",
    "node_list = [str(SubjectID) for SubjectID in raw_source['SubjectID'].unique()]\n",
    "\n",
    "# Then, the edge-list\n",
    "edge_list = []\n",
    "# Read in the raw records\n",
    "edge_df = raw_source.groupby('edge_ID')['SubjectID'].apply(list).reset_index(name='author_list')\n",
    "\n",
    "from itertools import combinations\n",
    "# Genearte edge_list from bag of authors per article\n",
    "edge_list = []\n",
    "for index, row in edge_df.iterrows():\n",
    "    author_list = row['author_list']\n",
    "    doi = row['edge_ID']\n",
    "    if len(author_list) == 1:\n",
    "        # Add a self-loop:\n",
    "        edge_list.append([author_list[0], author_list[-1], doi])\n",
    "    else:\n",
    "        # Add pairs of authors into an edge\n",
    "        for pair in combinations(author_list, 2):\n",
    "            edge_list.append(\n",
    "                [pair[0], pair[-1], doi]\n",
    "            )"
   ]
  },
  {
   "cell_type": "code",
   "execution_count": 4,
   "metadata": {},
   "outputs": [],
   "source": [
    "# Prepare the edgelist\n",
    "edge_tuple_list = [(str(edge[0]), str(edge[1])) for edge in edge_list]\n",
    "edge_label_list = [edge[-1] for edge in edge_list]"
   ]
  },
  {
   "cell_type": "code",
   "execution_count": 5,
   "metadata": {},
   "outputs": [],
   "source": [
    "# Compose a graph from edge-list, with DOI attributes for edges\n",
    "g = igraph.Graph()\n",
    "g.add_vertices(node_list)\n",
    "g.add_edges(edge_tuple_list)"
   ]
  },
  {
   "cell_type": "code",
   "execution_count": 6,
   "metadata": {},
   "outputs": [
    {
     "data": {
      "text/plain": [
       "'IGRAPH UN-- 4321 7285 -- \\n+ attr: name (v), edgeid (e)'"
      ]
     },
     "execution_count": 6,
     "metadata": {},
     "output_type": "execute_result"
    }
   ],
   "source": [
    "# Add he edge-id\n",
    "g.es['edgeid'] = edge_label_list\n",
    "g.summary()"
   ]
  },
  {
   "cell_type": "markdown",
   "metadata": {},
   "source": [
    "# Attempt to get a quotient graph for the giant component\n",
    "Though, the partition from community_leiden is random across runs"
   ]
  },
  {
   "cell_type": "code",
   "execution_count": 14,
   "metadata": {},
   "outputs": [],
   "source": [
    "# igraph has its own way of seeding\n",
    "import random\n",
    "import igraph as ig\n",
    "ig.set_random_number_generator(random)\n",
    "random.seed(\"2020-07-01\") # Or any other number of course"
   ]
  },
  {
   "cell_type": "code",
   "execution_count": 31,
   "metadata": {},
   "outputs": [],
   "source": [
    "components = sorted(g.components(), key=len, reverse=True)\n",
    "igiant_component = components[0]"
   ]
  },
  {
   "cell_type": "code",
   "execution_count": 32,
   "metadata": {},
   "outputs": [
    {
     "data": {
      "text/plain": [
       "'IGRAPH UN-- 2004 4533 -- \\n+ attr: name (v), edgeid (e)'"
      ]
     },
     "execution_count": 32,
     "metadata": {},
     "output_type": "execute_result"
    }
   ],
   "source": [
    "i_giant_graph = g.subgraph(igiant_component, implementation='copy_and_delete')\n",
    "i_giant_graph.summary()"
   ]
  },
  {
   "cell_type": "code",
   "execution_count": 33,
   "metadata": {},
   "outputs": [
    {
     "data": {
      "text/plain": [
       "'IGRAPH U--- 43 132 -- \\n+ attr: edgeid (e)'"
      ]
     },
     "execution_count": 33,
     "metadata": {},
     "output_type": "execute_result"
    }
   ],
   "source": [
    "ig.set_random_number_generator(random)\n",
    "random.seed(\"2020-07-01\") # Or any other number of course\n",
    "part1 = g.subgraph(igiant_component).community_leiden(objective_function='modularity', n_iterations=10)\n",
    "quotient_graph = igraph.VertexClustering(i_giant_graph, membership=part1.membership)\n",
    "quotient_graph = quotient_graph.cluster_graph(combine_edges=list ) # list here is helpful for collecting the DOIs\n",
    "quotient_graph.summary()"
   ]
  },
  {
   "cell_type": "code",
   "execution_count": 34,
   "metadata": {},
   "outputs": [
    {
     "data": {
      "text/plain": [
       "'IGRAPH U--- 43 132 -- \\n+ attr: edgeid (e)'"
      ]
     },
     "execution_count": 34,
     "metadata": {},
     "output_type": "execute_result"
    }
   ],
   "source": [
    "ig.set_random_number_generator(random)\n",
    "random.seed(\"2020-07-01\") # Or any other number of course\n",
    "part2 = g.subgraph(igiant_component).community_leiden(objective_function='modularity', n_iterations=10)\n",
    "quotient_graph = igraph.VertexClustering(i_giant_graph, membership=part2.membership)\n",
    "quotient_graph = quotient_graph.cluster_graph(combine_edges=list ) # list here is helpful for collecting the DOIs\n",
    "quotient_graph.summary()"
   ]
  },
  {
   "cell_type": "code",
   "execution_count": 35,
   "metadata": {},
   "outputs": [
    {
     "data": {
      "text/plain": [
       "'IGRAPH U--- 43 132 -- \\n+ attr: edgeid (e)'"
      ]
     },
     "execution_count": 35,
     "metadata": {},
     "output_type": "execute_result"
    }
   ],
   "source": [
    "ig.set_random_number_generator(random)\n",
    "random.seed(\"2020-07-01\") # Or any other number of course\n",
    "part3 = g.subgraph(igiant_component).community_leiden(objective_function='modularity', n_iterations=10)\n",
    "quotient_graph = igraph.VertexClustering(i_giant_graph, membership=part3.membership)\n",
    "quotient_graph = quotient_graph.cluster_graph(combine_edges=list ) # list here is helpful for collecting the DOIs\n",
    "quotient_graph.summary()"
   ]
  },
  {
   "cell_type": "code",
   "execution_count": 36,
   "metadata": {},
   "outputs": [
    {
     "data": {
      "text/plain": [
       "True"
      ]
     },
     "execution_count": 36,
     "metadata": {},
     "output_type": "execute_result"
    }
   ],
   "source": [
    "list(part1) == list(part2)"
   ]
  },
  {
   "cell_type": "code",
   "execution_count": 37,
   "metadata": {},
   "outputs": [
    {
     "data": {
      "text/plain": [
       "True"
      ]
     },
     "execution_count": 37,
     "metadata": {},
     "output_type": "execute_result"
    }
   ],
   "source": [
    "list(part2) == list(part3)"
   ]
  },
  {
   "cell_type": "code",
   "execution_count": 38,
   "metadata": {},
   "outputs": [
    {
     "data": {
      "text/plain": [
       "True"
      ]
     },
     "execution_count": 38,
     "metadata": {},
     "output_type": "execute_result"
    }
   ],
   "source": [
    "list(part1) == list(part3)"
   ]
  }
 ],
 "metadata": {
  "kernelspec": {
   "display_name": "Python 3",
   "language": "python",
   "name": "python3"
  },
  "language_info": {
   "codemirror_mode": {
    "name": "ipython",
    "version": 3
   },
   "file_extension": ".py",
   "mimetype": "text/x-python",
   "name": "python",
   "nbconvert_exporter": "python",
   "pygments_lexer": "ipython3",
   "version": "3.7.4"
  }
 },
 "nbformat": 4,
 "nbformat_minor": 4
}
