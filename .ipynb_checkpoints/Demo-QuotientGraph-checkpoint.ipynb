{
 "cells": [
  {
   "cell_type": "markdown",
   "metadata": {},
   "source": [
    "# Construct the graph"
   ]
  },
  {
   "cell_type": "code",
   "execution_count": 1,
   "metadata": {},
   "outputs": [],
   "source": [
    "import igraph\n",
    "import pandas as pd\n",
    "raw_source = pd.read_csv('deidentified_pub_record.csv')"
   ]
  },
  {
   "cell_type": "code",
   "execution_count": 2,
   "metadata": {},
   "outputs": [
    {
     "name": "stdout",
     "output_type": "stream",
     "text": [
      "0.8.2\n"
     ]
    }
   ],
   "source": [
    "print(igraph.__version__)"
   ]
  },
  {
   "cell_type": "code",
   "execution_count": 3,
   "metadata": {},
   "outputs": [],
   "source": [
    "# Prepare for the node-list\n",
    "node_list = [str(SubjectID) for SubjectID in raw_source['SubjectID'].unique()]\n",
    "\n",
    "# Then, the edge-list\n",
    "edge_list = []\n",
    "# Read in the raw records\n",
    "edge_df = raw_source.groupby('edge_ID')['SubjectID'].apply(list).reset_index(name='author_list')\n",
    "\n",
    "from itertools import combinations\n",
    "# Genearte edge_list from bag of authors per article\n",
    "edge_list = []\n",
    "for index, row in edge_df.iterrows():\n",
    "    author_list = row['author_list']\n",
    "    doi = row['edge_ID']\n",
    "    if len(author_list) == 1:\n",
    "        # Add a self-loop:\n",
    "        edge_list.append([author_list[0], author_list[-1], doi])\n",
    "    else:\n",
    "        # Add pairs of authors into an edge\n",
    "        for pair in combinations(author_list, 2):\n",
    "            edge_list.append(\n",
    "                [pair[0], pair[-1], doi]\n",
    "            )"
   ]
  },
  {
   "cell_type": "code",
   "execution_count": 4,
   "metadata": {},
   "outputs": [],
   "source": [
    "# Prepare the edgelist\n",
    "edge_tuple_list = [(str(edge[0]), str(edge[1])) for edge in edge_list]\n",
    "edge_label_list = [edge[-1] for edge in edge_list]"
   ]
  },
  {
   "cell_type": "code",
   "execution_count": 5,
   "metadata": {},
   "outputs": [],
   "source": [
    "# Compose a graph from edge-list, with DOI attributes for edges\n",
    "g = igraph.Graph()\n",
    "g.add_vertices(node_list)\n",
    "g.add_edges(edge_tuple_list)"
   ]
  },
  {
   "cell_type": "code",
   "execution_count": 6,
   "metadata": {},
   "outputs": [
    {
     "data": {
      "text/plain": [
       "'IGRAPH UN-- 4321 7285 -- \\n+ attr: name (v), edgeid (e)'"
      ]
     },
     "execution_count": 6,
     "metadata": {},
     "output_type": "execute_result"
    }
   ],
   "source": [
    "# Add he edge-id\n",
    "g.es['edgeid'] = edge_label_list\n",
    "g.summary()"
   ]
  },
  {
   "cell_type": "markdown",
   "metadata": {},
   "source": [
    "# Attempt to get a quotient graph for the giant component\n",
    "Though, the partition from community_leiden is random across runs"
   ]
  },
  {
   "cell_type": "code",
   "execution_count": 7,
   "metadata": {},
   "outputs": [],
   "source": [
    "components = sorted(g.components(), key=len, reverse=True)\n",
    "igiant_component = components[0]"
   ]
  },
  {
   "cell_type": "code",
   "execution_count": 8,
   "metadata": {},
   "outputs": [
    {
     "data": {
      "text/plain": [
       "'IGRAPH UN-- 2004 4533 -- \\n+ attr: name (v), edgeid (e)'"
      ]
     },
     "execution_count": 8,
     "metadata": {},
     "output_type": "execute_result"
    }
   ],
   "source": [
    "i_giant_graph = g.subgraph(igiant_component, implementation='copy_and_delete')\n",
    "i_giant_graph.summary()"
   ]
  },
  {
   "cell_type": "code",
   "execution_count": 9,
   "metadata": {},
   "outputs": [
    {
     "data": {
      "text/plain": [
       "'IGRAPH U--- 43 133 -- \\n+ attr: edgeid (e)'"
      ]
     },
     "execution_count": 9,
     "metadata": {},
     "output_type": "execute_result"
    }
   ],
   "source": [
    "part1 = g.subgraph(igiant_component).community_leiden(objective_function='modularity', n_iterations=10)\n",
    "quotient_graph = igraph.VertexClustering(i_giant_graph, membership=part1.membership)\n",
    "quotient_graph = quotient_graph.cluster_graph(combine_edges=list ) # list here is helpful for collecting the DOIs\n",
    "quotient_graph.summary()"
   ]
  },
  {
   "cell_type": "code",
   "execution_count": 10,
   "metadata": {},
   "outputs": [
    {
     "data": {
      "text/plain": [
       "'IGRAPH U--- 43 131 -- \\n+ attr: edgeid (e)'"
      ]
     },
     "execution_count": 10,
     "metadata": {},
     "output_type": "execute_result"
    }
   ],
   "source": [
    "part2 = g.subgraph(igiant_component).community_leiden(objective_function='modularity', n_iterations=10)\n",
    "quotient_graph = igraph.VertexClustering(i_giant_graph, membership=part2.membership)\n",
    "quotient_graph = quotient_graph.cluster_graph(combine_edges=list ) # list here is helpful for collecting the DOIs\n",
    "quotient_graph.summary()"
   ]
  },
  {
   "cell_type": "code",
   "execution_count": 11,
   "metadata": {},
   "outputs": [
    {
     "data": {
      "text/plain": [
       "'IGRAPH U--- 42 127 -- \\n+ attr: edgeid (e)'"
      ]
     },
     "execution_count": 11,
     "metadata": {},
     "output_type": "execute_result"
    }
   ],
   "source": [
    "part3 = g.subgraph(igiant_component).community_leiden(objective_function='modularity', n_iterations=10)\n",
    "quotient_graph = igraph.VertexClustering(i_giant_graph, membership=part3.membership)\n",
    "quotient_graph = quotient_graph.cluster_graph(combine_edges=list ) # list here is helpful for collecting the DOIs\n",
    "quotient_graph.summary()"
   ]
  },
  {
   "cell_type": "code",
   "execution_count": 12,
   "metadata": {},
   "outputs": [
    {
     "data": {
      "text/plain": [
       "False"
      ]
     },
     "execution_count": 12,
     "metadata": {},
     "output_type": "execute_result"
    }
   ],
   "source": [
    "part1 == part2"
   ]
  },
  {
   "cell_type": "code",
   "execution_count": 13,
   "metadata": {},
   "outputs": [
    {
     "data": {
      "text/plain": [
       "\u001b[0;31mSignature:\u001b[0m\n",
       "\u001b[0mg\u001b[0m\u001b[0;34m.\u001b[0m\u001b[0mcommunity_leiden\u001b[0m\u001b[0;34m(\u001b[0m\u001b[0;34m\u001b[0m\n",
       "\u001b[0;34m\u001b[0m    \u001b[0mobjective_function\u001b[0m\u001b[0;34m=\u001b[0m\u001b[0;34m'CPM'\u001b[0m\u001b[0;34m,\u001b[0m\u001b[0;34m\u001b[0m\n",
       "\u001b[0;34m\u001b[0m    \u001b[0mweights\u001b[0m\u001b[0;34m=\u001b[0m\u001b[0;32mNone\u001b[0m\u001b[0;34m,\u001b[0m\u001b[0;34m\u001b[0m\n",
       "\u001b[0;34m\u001b[0m    \u001b[0mresolution_parameter\u001b[0m\u001b[0;34m=\u001b[0m\u001b[0;36m1.0\u001b[0m\u001b[0;34m,\u001b[0m\u001b[0;34m\u001b[0m\n",
       "\u001b[0;34m\u001b[0m    \u001b[0mbeta\u001b[0m\u001b[0;34m=\u001b[0m\u001b[0;36m0.01\u001b[0m\u001b[0;34m,\u001b[0m\u001b[0;34m\u001b[0m\n",
       "\u001b[0;34m\u001b[0m    \u001b[0minitial_membership\u001b[0m\u001b[0;34m=\u001b[0m\u001b[0;32mNone\u001b[0m\u001b[0;34m,\u001b[0m\u001b[0;34m\u001b[0m\n",
       "\u001b[0;34m\u001b[0m    \u001b[0mn_iterations\u001b[0m\u001b[0;34m=\u001b[0m\u001b[0;36m2\u001b[0m\u001b[0;34m,\u001b[0m\u001b[0;34m\u001b[0m\n",
       "\u001b[0;34m\u001b[0m    \u001b[0mnode_weights\u001b[0m\u001b[0;34m=\u001b[0m\u001b[0;32mNone\u001b[0m\u001b[0;34m,\u001b[0m\u001b[0;34m\u001b[0m\n",
       "\u001b[0;34m\u001b[0m\u001b[0;34m)\u001b[0m\u001b[0;34m\u001b[0m\u001b[0;34m\u001b[0m\u001b[0m\n",
       "\u001b[0;31mDocstring:\u001b[0m\n",
       "community_leiden(objective_function=CPM, weights=None, \n",
       "resolution_parameter=1.0, beta=0.01, initial_membership=None,\n",
       "n_iterations=2, node_weights=None)\n",
       "\n",
       "Finds the community structure of the graph using the\n",
       "Leiden algorithm of Traag, van Eck & Waltman.\n",
       "\n",
       "@keyword objective_function: whether to use the Constant Potts \n",
       "  Model (CPM) or modularity. Must be either C{\"CPM\"} or C{\"modularity\"}.\n",
       "@keyword weights: edge weights to be used. Can be a sequence or\n",
       "  iterable or even an edge attribute name.\n",
       "@keyword resolution_parameter: the resolution parameter to use.\n",
       "  Higher resolutions lead to more smaller communities, while \n",
       "  lower resolutions lead to fewer larger communities.\n",
       "@keyword beta: parameter affecting the randomness in the Leiden \n",
       "  algorithm. This affects only the refinement step of the algorithm.\n",
       "@keyword initial_membership: if provided, the Leiden algorithm\n",
       "  will try to improve this provided membership. If no argument is\n",
       "  provided, the aglorithm simply starts from the singleton partition.\n",
       "@keyword n_iterations: the number of iterations to iterate the Leiden\n",
       "  algorithm. Each iteration may improve the partition further.\n",
       "@keyword node_weights: the node weights used in the Leiden algorithm.\n",
       "  If this is not provided, it will be automatically determined on the\n",
       "  basis of whether you want to use CPM or modularity. If you do provide\n",
       "  this, please make sure that you understand what you are doing.\n",
       "@return: an appropriate L{VertexClustering} object.\n",
       "\n",
       "@newfield ref: Reference\n",
       "@ref: Traag, V. A., Waltman, L., & van Eck, N. J. (2019). From Louvain\n",
       "  to Leiden: guaranteeing well-connected communities. Scientific \n",
       "  reports, 9(1), 5233. doi: 10.1038/s41598-019-41695-z\n",
       "\u001b[0;31mFile:\u001b[0m      ~/anaconda3/envs/ICPSR/lib/python3.7/site-packages/igraph/__init__.py\n",
       "\u001b[0;31mType:\u001b[0m      method\n"
      ]
     },
     "metadata": {},
     "output_type": "display_data"
    }
   ],
   "source": [
    "g.community_leiden?"
   ]
  }
 ],
 "metadata": {
  "kernelspec": {
   "display_name": "Python 3",
   "language": "python",
   "name": "python3"
  },
  "language_info": {
   "codemirror_mode": {
    "name": "ipython",
    "version": 3
   },
   "file_extension": ".py",
   "mimetype": "text/x-python",
   "name": "python",
   "nbconvert_exporter": "python",
   "pygments_lexer": "ipython3",
   "version": "3.7.4"
  }
 },
 "nbformat": 4,
 "nbformat_minor": 4
}
